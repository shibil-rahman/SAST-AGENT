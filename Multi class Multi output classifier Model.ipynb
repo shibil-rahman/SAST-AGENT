{
    "cells": [
        {
            "cell_type": "code",
            "execution_count": 2,
            "metadata": {},
            "outputs": [],
            "source": "import pandas as pd\nfrom sklearn.model_selection import train_test_split\nfrom sklearn.feature_extraction.text import TfidfVectorizer\nfrom sklearn.preprocessing import OneHotEncoder\nfrom sklearn.compose import ColumnTransformer\nfrom sklearn.multioutput import MultiOutputClassifier\nfrom sklearn.ensemble import RandomForestClassifier\nfrom sklearn.metrics import accuracy_score, classification_report, multilabel_confusion_matrix\nfrom sklearn.model_selection import GridSearchCV\n\n"
        },
        {
            "cell_type": "code",
            "execution_count": 3,
            "metadata": {},
            "outputs": [
                {
                    "data": {
                        "text/html": "<div>\n<style scoped>\n    .dataframe tbody tr th:only-of-type {\n        vertical-align: middle;\n    }\n\n    .dataframe tbody tr th {\n        vertical-align: top;\n    }\n\n    .dataframe thead th {\n        text-align: right;\n    }\n</style>\n<table border=\"1\" class=\"dataframe\">\n  <thead>\n    <tr style=\"text-align: right;\">\n      <th></th>\n      <th>Unnamed: 0</th>\n      <th>Severity Id</th>\n      <th>Issue Type Name</th>\n      <th>Threat Class</th>\n      <th>Security Risk</th>\n      <th>Cause</th>\n      <th>Analysis Result</th>\n      <th>Result</th>\n    </tr>\n  </thead>\n  <tbody>\n    <tr>\n      <th>0</th>\n      <td>0</td>\n      <td>3</td>\n      <td>authentication credentials unprotected</td>\n      <td>insufficient authentication</td>\n      <td>it may be possible to bypass the web applicati...</td>\n      <td>insufficient authentication method was used by...</td>\n      <td>no need to fix</td>\n      <td>False Negative</td>\n    </tr>\n    <tr>\n      <th>1</th>\n      <td>1</td>\n      <td>3</td>\n      <td>bufferoverflow</td>\n      <td>buffer overflow</td>\n      <td>it is possible to prevent the web application ...</td>\n      <td>proper bounds checking were not performed on i...</td>\n      <td>no need to fix</td>\n      <td>False Negative</td>\n    </tr>\n    <tr>\n      <th>2</th>\n      <td>2</td>\n      <td>3</td>\n      <td>command injection</td>\n      <td>os commanding</td>\n      <td>it is possible to run remote commands on the w...</td>\n      <td>no validation was done in order to make sure t...</td>\n      <td>no need to fix</td>\n      <td>False Negative</td>\n    </tr>\n    <tr>\n      <th>3</th>\n      <td>3</td>\n      <td>3</td>\n      <td>cryptography insecurealgorithm</td>\n      <td>information leakage</td>\n      <td>it is possible to gather sensitive information...</td>\n      <td>sensitive information stored to disk in cleartext</td>\n      <td>no need to fix</td>\n      <td>False Negative</td>\n    </tr>\n    <tr>\n      <th>4</th>\n      <td>4</td>\n      <td>3</td>\n      <td>improper handling of exceptional conditions</td>\n      <td>information leakage</td>\n      <td>it is possible to retrieve the absolute path o...</td>\n      <td>exceptions and error messages  which may conta...</td>\n      <td>no need to fix</td>\n      <td>False Negative</td>\n    </tr>\n  </tbody>\n</table>\n</div>",
                        "text/plain": "   Unnamed: 0  Severity Id                              Issue Type Name  \\\n0           0            3       authentication credentials unprotected   \n1           1            3                               bufferoverflow   \n2           2            3                            command injection   \n3           3            3               cryptography insecurealgorithm   \n4           4            3  improper handling of exceptional conditions   \n\n                  Threat Class  \\\n0  insufficient authentication   \n1              buffer overflow   \n2                os commanding   \n3          information leakage   \n4          information leakage   \n\n                                       Security Risk  \\\n0  it may be possible to bypass the web applicati...   \n1  it is possible to prevent the web application ...   \n2  it is possible to run remote commands on the w...   \n3  it is possible to gather sensitive information...   \n4  it is possible to retrieve the absolute path o...   \n\n                                               Cause Analysis Result  \\\n0  insufficient authentication method was used by...  no need to fix   \n1  proper bounds checking were not performed on i...  no need to fix   \n2  no validation was done in order to make sure t...  no need to fix   \n3  sensitive information stored to disk in cleartext  no need to fix   \n4  exceptions and error messages  which may conta...  no need to fix   \n\n           Result  \n0  False Negative  \n1  False Negative  \n2  False Negative  \n3  False Negative  \n4  False Negative  "
                    },
                    "execution_count": 3,
                    "metadata": {},
                    "output_type": "execute_result"
                }
            ],
            "source": "# The code was removed by Watson Studio for sharing."
        },
        {
            "cell_type": "code",
            "execution_count": 5,
            "metadata": {},
            "outputs": [],
            "source": "# preprocess the dataset\n\ndata.fillna('', inplace=True)\nX_text = data.drop(columns=['Unnamed: 0', 'Severity Id', 'Analysis Result', 'Result'])\nX_numerical = data[['Severity Id']]\ny = data[['Analysis Result', 'Result']]"
        },
        {
            "cell_type": "code",
            "execution_count": 6,
            "metadata": {},
            "outputs": [],
            "source": "# One-hot encode 'Severity Id'\nencoder = OneHotEncoder()\nX_numerical_encoded = encoder.fit_transform(X_numerical)"
        },
        {
            "cell_type": "code",
            "execution_count": 7,
            "metadata": {},
            "outputs": [],
            "source": "# Convert text features to numerical representations\ntfidf_vectorizer = TfidfVectorizer(max_features=5000)\nX_text_tfidf = tfidf_vectorizer.fit_transform(X_text['Issue Type Name'] + ' ' + X_text['Cause'] + ' ' + X_text['Threat Class'] + ' ' + X_text['Security Risk'])\n"
        },
        {
            "cell_type": "code",
            "execution_count": 8,
            "metadata": {},
            "outputs": [],
            "source": "# Concatenate text and numerical features\nX_combined = pd.concat([pd.DataFrame(X_numerical_encoded.toarray()), pd.DataFrame(X_text_tfidf.toarray())], axis=1)\n"
        },
        {
            "cell_type": "code",
            "execution_count": 9,
            "metadata": {},
            "outputs": [],
            "source": "# Split the data into training and testing sets\nX_train, X_test, y_train, y_test = train_test_split(X_combined, y, test_size=0.2, random_state=42)\n"
        },
        {
            "cell_type": "code",
            "execution_count": 10,
            "metadata": {},
            "outputs": [
                {
                    "data": {
                        "text/html": "<style>#sk-container-id-1 {color: black;background-color: white;}#sk-container-id-1 pre{padding: 0;}#sk-container-id-1 div.sk-toggleable {background-color: white;}#sk-container-id-1 label.sk-toggleable__label {cursor: pointer;display: block;width: 100%;margin-bottom: 0;padding: 0.3em;box-sizing: border-box;text-align: center;}#sk-container-id-1 label.sk-toggleable__label-arrow:before {content: \"\u25b8\";float: left;margin-right: 0.25em;color: #696969;}#sk-container-id-1 label.sk-toggleable__label-arrow:hover:before {color: black;}#sk-container-id-1 div.sk-estimator:hover label.sk-toggleable__label-arrow:before {color: black;}#sk-container-id-1 div.sk-toggleable__content {max-height: 0;max-width: 0;overflow: hidden;text-align: left;background-color: #f0f8ff;}#sk-container-id-1 div.sk-toggleable__content pre {margin: 0.2em;color: black;border-radius: 0.25em;background-color: #f0f8ff;}#sk-container-id-1 input.sk-toggleable__control:checked~div.sk-toggleable__content {max-height: 200px;max-width: 100%;overflow: auto;}#sk-container-id-1 input.sk-toggleable__control:checked~label.sk-toggleable__label-arrow:before {content: \"\u25be\";}#sk-container-id-1 div.sk-estimator input.sk-toggleable__control:checked~label.sk-toggleable__label {background-color: #d4ebff;}#sk-container-id-1 div.sk-label input.sk-toggleable__control:checked~label.sk-toggleable__label {background-color: #d4ebff;}#sk-container-id-1 input.sk-hidden--visually {border: 0;clip: rect(1px 1px 1px 1px);clip: rect(1px, 1px, 1px, 1px);height: 1px;margin: -1px;overflow: hidden;padding: 0;position: absolute;width: 1px;}#sk-container-id-1 div.sk-estimator {font-family: monospace;background-color: #f0f8ff;border: 1px dotted black;border-radius: 0.25em;box-sizing: border-box;margin-bottom: 0.5em;}#sk-container-id-1 div.sk-estimator:hover {background-color: #d4ebff;}#sk-container-id-1 div.sk-parallel-item::after {content: \"\";width: 100%;border-bottom: 1px solid gray;flex-grow: 1;}#sk-container-id-1 div.sk-label:hover label.sk-toggleable__label {background-color: #d4ebff;}#sk-container-id-1 div.sk-serial::before {content: \"\";position: absolute;border-left: 1px solid gray;box-sizing: border-box;top: 0;bottom: 0;left: 50%;z-index: 0;}#sk-container-id-1 div.sk-serial {display: flex;flex-direction: column;align-items: center;background-color: white;padding-right: 0.2em;padding-left: 0.2em;position: relative;}#sk-container-id-1 div.sk-item {position: relative;z-index: 1;}#sk-container-id-1 div.sk-parallel {display: flex;align-items: stretch;justify-content: center;background-color: white;position: relative;}#sk-container-id-1 div.sk-item::before, #sk-container-id-1 div.sk-parallel-item::before {content: \"\";position: absolute;border-left: 1px solid gray;box-sizing: border-box;top: 0;bottom: 0;left: 50%;z-index: -1;}#sk-container-id-1 div.sk-parallel-item {display: flex;flex-direction: column;z-index: 1;position: relative;background-color: white;}#sk-container-id-1 div.sk-parallel-item:first-child::after {align-self: flex-end;width: 50%;}#sk-container-id-1 div.sk-parallel-item:last-child::after {align-self: flex-start;width: 50%;}#sk-container-id-1 div.sk-parallel-item:only-child::after {width: 0;}#sk-container-id-1 div.sk-dashed-wrapped {border: 1px dashed gray;margin: 0 0.4em 0.5em 0.4em;box-sizing: border-box;padding-bottom: 0.4em;background-color: white;}#sk-container-id-1 div.sk-label label {font-family: monospace;font-weight: bold;display: inline-block;line-height: 1.2em;}#sk-container-id-1 div.sk-label-container {text-align: center;}#sk-container-id-1 div.sk-container {/* jupyter's `normalize.less` sets `[hidden] { display: none; }` but bootstrap.min.css set `[hidden] { display: none !important; }` so we also need the `!important` here to be able to override the default hidden behavior on the sphinx rendered scikit-learn.org. See: https://github.com/scikit-learn/scikit-learn/issues/21755 */display: inline-block !important;position: relative;}#sk-container-id-1 div.sk-text-repr-fallback {display: none;}</style><div id=\"sk-container-id-1\" class=\"sk-top-container\"><div class=\"sk-text-repr-fallback\"><pre>MultiOutputClassifier(estimator=RandomForestClassifier(n_estimators=50,\n                                                       random_state=42))</pre><b>In a Jupyter environment, please rerun this cell to show the HTML representation or trust the notebook. <br />On GitHub, the HTML representation is unable to render, please try loading this page with nbviewer.org.</b></div><div class=\"sk-container\" hidden><div class=\"sk-item sk-dashed-wrapped\"><div class=\"sk-label-container\"><div class=\"sk-label sk-toggleable\"><input class=\"sk-toggleable__control sk-hidden--visually\" id=\"sk-estimator-id-1\" type=\"checkbox\" ><label for=\"sk-estimator-id-1\" class=\"sk-toggleable__label sk-toggleable__label-arrow\">MultiOutputClassifier</label><div class=\"sk-toggleable__content\"><pre>MultiOutputClassifier(estimator=RandomForestClassifier(n_estimators=50,\n                                                       random_state=42))</pre></div></div></div><div class=\"sk-parallel\"><div class=\"sk-parallel-item\"><div class=\"sk-item\"><div class=\"sk-label-container\"><div class=\"sk-label sk-toggleable\"><input class=\"sk-toggleable__control sk-hidden--visually\" id=\"sk-estimator-id-2\" type=\"checkbox\" ><label for=\"sk-estimator-id-2\" class=\"sk-toggleable__label sk-toggleable__label-arrow\">estimator: RandomForestClassifier</label><div class=\"sk-toggleable__content\"><pre>RandomForestClassifier(n_estimators=50, random_state=42)</pre></div></div></div><div class=\"sk-serial\"><div class=\"sk-item\"><div class=\"sk-estimator sk-toggleable\"><input class=\"sk-toggleable__control sk-hidden--visually\" id=\"sk-estimator-id-3\" type=\"checkbox\" ><label for=\"sk-estimator-id-3\" class=\"sk-toggleable__label sk-toggleable__label-arrow\">RandomForestClassifier</label><div class=\"sk-toggleable__content\"><pre>RandomForestClassifier(n_estimators=50, random_state=42)</pre></div></div></div></div></div></div></div></div></div></div>",
                        "text/plain": "MultiOutputClassifier(estimator=RandomForestClassifier(n_estimators=50,\n                                                       random_state=42))"
                    },
                    "execution_count": 10,
                    "metadata": {},
                    "output_type": "execute_result"
                }
            ],
            "source": "# Use the best hyperparameters to train the model\nbest_rf_classifier = RandomForestClassifier(random_state=42, max_depth=None, min_samples_leaf=1, min_samples_split=2, n_estimators=50)\nmultioutput_classifier_tuned = MultiOutputClassifier(best_rf_classifier)\nmultioutput_classifier_tuned.fit(X_train, y_train)"
        },
        {
            "cell_type": "code",
            "execution_count": 11,
            "metadata": {},
            "outputs": [],
            "source": "# Make predictions using the tuned model\ny_pred_tuned = multioutput_classifier_tuned.predict(X_test)"
        },
        {
            "cell_type": "code",
            "execution_count": 12,
            "metadata": {},
            "outputs": [
                {
                    "name": "stdout",
                    "output_type": "stream",
                    "text": "Accuracy for Analysis Result (Tuned): 0.7658536585365854\n"
                }
            ],
            "source": "# Evaluate the tuned model\naccuracy_analysis_result_tuned = accuracy_score(y_test['Analysis Result'], y_pred_tuned[:, 0])\nprint(\"Accuracy for Analysis Result (Tuned):\", accuracy_analysis_result_tuned)"
        },
        {
            "cell_type": "code",
            "execution_count": 13,
            "metadata": {},
            "outputs": [
                {
                    "name": "stdout",
                    "output_type": "stream",
                    "text": "Accuracy for Result (Tuned): 0.9609756097560975\n"
                }
            ],
            "source": "accuracy_result_tuned = accuracy_score(y_test['Result'], y_pred_tuned[:, 1])\nprint(\"Accuracy for Result (Tuned):\", accuracy_result_tuned)"
        },
        {
            "cell_type": "code",
            "execution_count": 13,
            "metadata": {},
            "outputs": [
                {
                    "name": "stdout",
                    "output_type": "stream",
                    "text": "Classification Report for Analysis Result:\n                precision    recall  f1-score   support\n\n         fixed       0.00      0.00      0.00         1\n   need to fix       0.00      0.00      0.00        45\nno need to fix       0.77      0.99      0.87       159\n\n      accuracy                           0.77       205\n     macro avg       0.26      0.33      0.29       205\n  weighted avg       0.60      0.77      0.67       205\n\nClassification Report for Result:\n                precision    recall  f1-score   support\n\n     Duplicate       0.97      1.00      0.98       197\nFalse Negative       0.00      0.00      0.00         2\nFalse Positive       0.00      0.00      0.00         3\n True Positive       0.00      0.00      0.00         3\n\n      accuracy                           0.96       205\n     macro avg       0.24      0.25      0.25       205\n  weighted avg       0.93      0.96      0.95       205\n\n"
                },
                {
                    "name": "stderr",
                    "output_type": "stream",
                    "text": "/opt/conda/envs/Python-3.10/lib/python3.10/site-packages/sklearn/metrics/_classification.py:1327: UndefinedMetricWarning: Precision and F-score are ill-defined and being set to 0.0 in labels with no predicted samples. Use `zero_division` parameter to control this behavior.\n  _warn_prf(average, modifier, msg_start, len(result))\n/opt/conda/envs/Python-3.10/lib/python3.10/site-packages/sklearn/metrics/_classification.py:1327: UndefinedMetricWarning: Precision and F-score are ill-defined and being set to 0.0 in labels with no predicted samples. Use `zero_division` parameter to control this behavior.\n  _warn_prf(average, modifier, msg_start, len(result))\n/opt/conda/envs/Python-3.10/lib/python3.10/site-packages/sklearn/metrics/_classification.py:1327: UndefinedMetricWarning: Precision and F-score are ill-defined and being set to 0.0 in labels with no predicted samples. Use `zero_division` parameter to control this behavior.\n  _warn_prf(average, modifier, msg_start, len(result))\n/opt/conda/envs/Python-3.10/lib/python3.10/site-packages/sklearn/metrics/_classification.py:1327: UndefinedMetricWarning: Precision and F-score are ill-defined and being set to 0.0 in labels with no predicted samples. Use `zero_division` parameter to control this behavior.\n  _warn_prf(average, modifier, msg_start, len(result))\n/opt/conda/envs/Python-3.10/lib/python3.10/site-packages/sklearn/metrics/_classification.py:1327: UndefinedMetricWarning: Precision and F-score are ill-defined and being set to 0.0 in labels with no predicted samples. Use `zero_division` parameter to control this behavior.\n  _warn_prf(average, modifier, msg_start, len(result))\n/opt/conda/envs/Python-3.10/lib/python3.10/site-packages/sklearn/metrics/_classification.py:1327: UndefinedMetricWarning: Precision and F-score are ill-defined and being set to 0.0 in labels with no predicted samples. Use `zero_division` parameter to control this behavior.\n  _warn_prf(average, modifier, msg_start, len(result))\n"
                }
            ],
            "source": "# Print classification report for both outputs\nprint(\"Classification Report for Analysis Result:\")\nprint(classification_report(y_test['Analysis Result'], y_pred_tuned[:, 0]))\n\nprint(\"Classification Report for Result:\")\nprint(classification_report(y_test['Result'], y_pred_tuned[:, 1]))"
        },
        {
            "cell_type": "code",
            "execution_count": 14,
            "metadata": {},
            "outputs": [
                {
                    "name": "stdout",
                    "output_type": "stream",
                    "text": "Multilabel Confusion Matrix for Analysis Result:\n[[[204   0]\n  [  1   0]]\n\n [[158   2]\n  [ 45   0]]\n\n [[  0  46]\n  [  2 157]]]\nMultilabel Confusion Matrix for Result:\n[[[  2   6]\n  [  0 197]]\n\n [[203   0]\n  [  2   0]]\n\n [[201   1]\n  [  3   0]]\n\n [[201   1]\n  [  3   0]]]\n"
                }
            ],
            "source": "# Print multilabel confusion matrices for both outputs\nprint(\"Multilabel Confusion Matrix for Analysis Result:\")\nprint(multilabel_confusion_matrix(y_test['Analysis Result'], y_pred_tuned[:, 0]))\n\nprint(\"Multilabel Confusion Matrix for Result:\")\nprint(multilabel_confusion_matrix(y_test['Result'], y_pred_tuned[:, 1]))"
        },
        {
            "cell_type": "code",
            "execution_count": 15,
            "metadata": {},
            "outputs": [],
            "source": "# The code was removed by Watson Studio for sharing."
        },
        {
            "cell_type": "code",
            "execution_count": 16,
            "metadata": {},
            "outputs": [
                {
                    "name": "stdout",
                    "output_type": "stream",
                    "text": "    Unnamed: 0  Severity Id      Issue Type Name  \\\n0         1010            3        sql injection   \n1         1011            3        sql injection   \n2         1012            3  validation required   \n3         1013            3  validation required   \n4         1014            3  validation required   \n5         1015            3  validation required   \n6         1016            3  validation required   \n7         1017            3        xml injection   \n8         1018            3        xml injection   \n9         1019            3        xml injection   \n10        1020            3        xml injection   \n\n                       Threat Class  \\\n0                     sql injection   \n1                     sql injection   \n2   insufficient process validation   \n3   insufficient process validation   \n4   insufficient process validation   \n5   insufficient process validation   \n6   insufficient process validation   \n7                     xml injection   \n8                     xml injection   \n9                     xml injection   \n10                    xml injection   \n\n                                        Security Risk  \\\n0   it is possible to view  modify or delete datab...   \n1   it is possible to view  modify or delete datab...   \n2   it might be possible to undermine application ...   \n3   it might be possible to undermine application ...   \n4   it might be possible to undermine application ...   \n5   it might be possible to undermine application ...   \n6   it might be possible to undermine application ...   \n7                                                       \n8                                                       \n9                                                       \n10                                                      \n\n                                                Cause Unnamed: 6 Unnamed: 7  \\\n0   sanitation of hazardous characters was not per...                         \n1   sanitation of hazardous characters was not per...                         \n2   insecure web application programming or config...                         \n3   insecure web application programming or config...                         \n4   insecure web application programming or config...                         \n5   insecure web application programming or config...                         \n6   insecure web application programming or config...                         \n7   no validation was done in order to make sure t...                         \n8   no validation was done in order to make sure t...                         \n9   no validation was done in order to make sure t...                         \n10  no validation was done in order to make sure t...                         \n\n   Analysis Result Prediction Result Prediction  \n0                 need to fix     True Positive  \n1                 need to fix     True Positive  \n2              no need to fix         Duplicate  \n3              no need to fix         Duplicate  \n4              no need to fix         Duplicate  \n5              no need to fix         Duplicate  \n6              no need to fix         Duplicate  \n7                 need to fix    False Positive  \n8                 need to fix    False Positive  \n9                 need to fix    False Positive  \n10                need to fix    False Positive  \n"
                }
            ],
            "source": "# Preprocessing of dataset\nnew_data.fillna('', inplace=True)\nX_new_text = new_data.drop(columns=['Unnamed: 0', 'Severity Id'])  # Exclude the output columns if present\nX_new_numerical = new_data[['Severity Id']]\n\n# Load the previously fitted encoder and transform the numerical features of the new data\nX_new_numerical_encoded = encoder.fit_transform(X_new_numerical)\n\n# Load the previously fitted TF-IDF vectorizer and transform the text features of the new data\nX_new_text_tfidf = tfidf_vectorizer.transform(X_new_text['Issue Type Name'] + ' ' + X_new_text['Cause'] + ' ' + X_new_text['Threat Class'] + ' ' + X_new_text['Security Risk'])\n\n# Concatenate text and numerical features for the new data\nX_new_combined = pd.concat([pd.DataFrame(X_new_numerical_encoded.toarray()), pd.DataFrame(X_new_text_tfidf.toarray())], axis=1)\n\n# Use the already trained classifier to predict the outputs for the new data\ny_new_pred = multioutput_classifier_tuned.predict(X_new_combined)\n\n# Get the predictions for Analysis Result and Result columns\ny_new_analysis_result_pred = y_new_pred[:, 0]\ny_new_result_pred = y_new_pred[:, 1]\n\nnew_data['Analysis Result Prediction'] = y_new_analysis_result_pred\nnew_data['Result Prediction'] = y_new_result_pred\nprint(new_data)\n\n# Save the new_data DataFrame with predictions to a new CSV file\nnew_data.to_csv(\"new_data_with_predictions.csv\", index=False)\n\n"
        },
        {
            "cell_type": "code",
            "execution_count": 25,
            "metadata": {},
            "outputs": [
                {
                    "data": {
                        "text/plain": "['multioutput_classifier_tuned.p']"
                    },
                    "execution_count": 25,
                    "metadata": {},
                    "output_type": "execute_result"
                }
            ],
            "source": "import joblib\njoblib.dump(encoder, 'encoder.pkl')\njoblib.dump(tfidf_vectorizer, 'tfidf_vectorizer.pkl')\njoblib.dump(multioutput_classifier_tuned, 'multioutput_classifier_tuned.p')"
        },
        {
            "cell_type": "code",
            "execution_count": null,
            "metadata": {},
            "outputs": [],
            "source": ""
        }
    ],
    "metadata": {
        "kernelspec": {
            "display_name": "Python 3.10",
            "language": "python",
            "name": "python3"
        },
        "language_info": {
            "codemirror_mode": {
                "name": "ipython",
                "version": 3
            },
            "file_extension": ".py",
            "mimetype": "text/x-python",
            "name": "python",
            "nbconvert_exporter": "python",
            "pygments_lexer": "ipython3",
            "version": "3.10.9"
        }
    },
    "nbformat": 4,
    "nbformat_minor": 1
}